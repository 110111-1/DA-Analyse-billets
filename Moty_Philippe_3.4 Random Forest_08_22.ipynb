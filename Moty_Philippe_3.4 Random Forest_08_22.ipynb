{
 "cells": [
  {
   "cell_type": "markdown",
   "id": "31b80850",
   "metadata": {},
   "source": [
    "<img src=\"img/banniere.jpg\" />"
   ]
  },
  {
   "cell_type": "code",
   "execution_count": 1,
   "id": "ea90fdc8",
   "metadata": {},
   "outputs": [],
   "source": [
    "import numpy as np\n",
    "import pandas as pd\n",
    "import seaborn as sns\n",
    "import matplotlib.pyplot as plt\n",
    "from sklearn import preprocessing\n",
    "from sklearn.ensemble import RandomForestClassifier\n",
    "from sklearn.model_selection import train_test_split"
   ]
  },
  {
   "cell_type": "code",
   "execution_count": 2,
   "id": "79df1533",
   "metadata": {},
   "outputs": [],
   "source": [
    "# Import des donnees:\n",
    "data = pd.read_csv(\"datas/billets_complet.csv\", sep = ',')"
   ]
  },
  {
   "cell_type": "code",
   "execution_count": 3,
   "id": "5befe36b",
   "metadata": {},
   "outputs": [
    {
     "data": {
      "text/plain": [
       "True     1000\n",
       "False     500\n",
       "Name: is_genuine, dtype: int64"
      ]
     },
     "execution_count": 3,
     "metadata": {},
     "output_type": "execute_result"
    }
   ],
   "source": [
    "data[\"is_genuine\"].value_counts()"
   ]
  },
  {
   "cell_type": "code",
   "execution_count": 4,
   "id": "9113f7c7",
   "metadata": {},
   "outputs": [],
   "source": [
    "y = data[\"is_genuine\"]\n",
    "x = data.drop(\"is_genuine\", axis = 1)\n",
    "X_train, X_test, y_train, y_test  = train_test_split(x, \n",
    "                                                     y, \n",
    "                                                     test_size=0.25, \n",
    "                                                     random_state=42)"
   ]
  },
  {
   "cell_type": "code",
   "execution_count": 5,
   "id": "cca0991f",
   "metadata": {},
   "outputs": [],
   "source": [
    "modele_rf = RandomForestClassifier(\n",
    "     n_estimators=100,\n",
    "     criterion='gini',\n",
    "     max_depth=None,\n",
    "     min_samples_split=2,\n",
    "     min_samples_leaf=1,\n",
    "     min_weight_fraction_leaf=0.0,\n",
    "     max_features='auto',\n",
    "     max_leaf_nodes=None,\n",
    "     min_impurity_decrease=0.0,\n",
    "     bootstrap=True,\n",
    "     oob_score=False,\n",
    "     n_jobs=None,\n",
    "     random_state=None,\n",
    "     verbose=0,\n",
    "     warm_start=False,\n",
    "     class_weight=None,\n",
    "     ccp_alpha=0.0,\n",
    "     max_samples=None,)"
   ]
  },
  {
   "cell_type": "code",
   "execution_count": 6,
   "id": "9188854f",
   "metadata": {},
   "outputs": [
    {
     "data": {
      "text/plain": [
       "RandomForestClassifier()"
      ]
     },
     "execution_count": 6,
     "metadata": {},
     "output_type": "execute_result"
    }
   ],
   "source": [
    "modele_rf.fit(X_train, y_train)"
   ]
  },
  {
   "cell_type": "code",
   "execution_count": 7,
   "id": "8a09ec0e",
   "metadata": {},
   "outputs": [
    {
     "data": {
      "text/html": [
       "<div>\n",
       "<style scoped>\n",
       "    .dataframe tbody tr th:only-of-type {\n",
       "        vertical-align: middle;\n",
       "    }\n",
       "\n",
       "    .dataframe tbody tr th {\n",
       "        vertical-align: top;\n",
       "    }\n",
       "\n",
       "    .dataframe thead th {\n",
       "        text-align: right;\n",
       "    }\n",
       "</style>\n",
       "<table border=\"1\" class=\"dataframe\">\n",
       "  <thead>\n",
       "    <tr style=\"text-align: right;\">\n",
       "      <th></th>\n",
       "      <th>importance</th>\n",
       "    </tr>\n",
       "  </thead>\n",
       "  <tbody>\n",
       "    <tr>\n",
       "      <th>length</th>\n",
       "      <td>0.443561</td>\n",
       "    </tr>\n",
       "    <tr>\n",
       "      <th>margin_low</th>\n",
       "      <td>0.308258</td>\n",
       "    </tr>\n",
       "    <tr>\n",
       "      <th>margin_up</th>\n",
       "      <td>0.125608</td>\n",
       "    </tr>\n",
       "    <tr>\n",
       "      <th>height_right</th>\n",
       "      <td>0.075753</td>\n",
       "    </tr>\n",
       "    <tr>\n",
       "      <th>height_left</th>\n",
       "      <td>0.037856</td>\n",
       "    </tr>\n",
       "    <tr>\n",
       "      <th>diagonal</th>\n",
       "      <td>0.008964</td>\n",
       "    </tr>\n",
       "  </tbody>\n",
       "</table>\n",
       "</div>"
      ],
      "text/plain": [
       "              importance\n",
       "length          0.443561\n",
       "margin_low      0.308258\n",
       "margin_up       0.125608\n",
       "height_right    0.075753\n",
       "height_left     0.037856\n",
       "diagonal        0.008964"
      ]
     },
     "execution_count": 7,
     "metadata": {},
     "output_type": "execute_result"
    }
   ],
   "source": [
    "pd.DataFrame(modele_rf.feature_importances_,\n",
    "              index = X_train.columns, \n",
    "              columns = [\"importance\"]).sort_values(\n",
    "     \"importance\", \n",
    "     ascending = False)"
   ]
  },
  {
   "cell_type": "code",
   "execution_count": 8,
   "id": "bcfcc29e",
   "metadata": {},
   "outputs": [
    {
     "name": "stdout",
     "output_type": "stream",
     "text": [
      "Le pourcentage de bien classés est de : 99.2 %\n"
     ]
    }
   ],
   "source": [
    "from sklearn.metrics import accuracy_score, confusion_matrix\n",
    "print(f\"Le pourcentage de bien classés est de : {accuracy_score(y_test, modele_rf.predict(X_test))*100} %\")"
   ]
  },
  {
   "cell_type": "code",
   "execution_count": 9,
   "id": "349fdd56",
   "metadata": {},
   "outputs": [
    {
     "data": {
      "text/html": [
       "<div>\n",
       "<style scoped>\n",
       "    .dataframe tbody tr th:only-of-type {\n",
       "        vertical-align: middle;\n",
       "    }\n",
       "\n",
       "    .dataframe tbody tr th {\n",
       "        vertical-align: top;\n",
       "    }\n",
       "\n",
       "    .dataframe thead th {\n",
       "        text-align: right;\n",
       "    }\n",
       "</style>\n",
       "<table border=\"1\" class=\"dataframe\">\n",
       "  <thead>\n",
       "    <tr style=\"text-align: right;\">\n",
       "      <th></th>\n",
       "      <th>Faux predits</th>\n",
       "      <th>Vrai predit</th>\n",
       "    </tr>\n",
       "  </thead>\n",
       "  <tbody>\n",
       "    <tr>\n",
       "      <th>faux données</th>\n",
       "      <td>132</td>\n",
       "      <td>3</td>\n",
       "    </tr>\n",
       "    <tr>\n",
       "      <th>vrai données</th>\n",
       "      <td>0</td>\n",
       "      <td>240</td>\n",
       "    </tr>\n",
       "  </tbody>\n",
       "</table>\n",
       "</div>"
      ],
      "text/plain": [
       "              Faux predits  Vrai predit\n",
       "faux données           132            3\n",
       "vrai données             0          240"
      ]
     },
     "execution_count": 9,
     "metadata": {},
     "output_type": "execute_result"
    }
   ],
   "source": [
    "pd.DataFrame(confusion_matrix(y_test, modele_rf.predict(X_test)),\n",
    "             index = ['faux données','vrai données'],\n",
    "             columns = ['Faux predits','Vrai predit'])"
   ]
  },
  {
   "cell_type": "code",
   "execution_count": 10,
   "id": "6d1fd72b",
   "metadata": {},
   "outputs": [],
   "source": [
    "def plot_confusion_matrix(cf_matrix):\n",
    "    plt.figure(figsize=(7, 7))\n",
    "    ['False Pos','True Pos','True Neg','False Neg']\n",
    "    group_names = ['True Negative','False Negative','False Positive','True Positive']\n",
    "    group_counts = [\"{0:0.0f}\".format(value) for value in\n",
    "                    cf_matrix.flatten()]\n",
    "    group_percentages = [\"{0:.2%}\".format(value) for value in\n",
    "                         cf_matrix.flatten()/np.sum(cf_matrix)]\n",
    "    labels = [f\"{v1}\\n{v2}\\n{v3}\" for v1, v2, v3 in\n",
    "              zip(group_names,group_counts,group_percentages)]\n",
    "    labels = np.asarray(labels).reshape(2,2)\n",
    "    sns.heatmap(cf_matrix, annot=labels, fmt='', cmap='Blues')\n",
    "    plt.title(\"Prédiction avec les données normalisées\")\n",
    "    plt.show()"
   ]
  },
  {
   "cell_type": "code",
   "execution_count": 11,
   "id": "172f32e7",
   "metadata": {},
   "outputs": [
    {
     "data": {
      "image/png": "[encoded data removed]",
      "text/plain": [
       "<Figure size 504x504 with 2 Axes>"
      ]
     },
     "metadata": {
      "needs_background": "light"
     },
     "output_type": "display_data"
    }
   ],
   "source": [
    "res = confusion_matrix(y_test, modele_rf.predict(X_test))\n",
    "plot_confusion_matrix(res)"
   ]
  },
  {
   "cell_type": "markdown",
   "id": "517074c6",
   "metadata": {},
   "source": [
    "# Test sur echantillon"
   ]
  },
  {
   "cell_type": "code",
   "execution_count": 12,
   "id": "2b29bf7d",
   "metadata": {},
   "outputs": [],
   "source": [
    "#import des données test\n",
    "new = pd.read_csv(\"datas/billets_production.csv\")"
   ]
  },
  {
   "cell_type": "code",
   "execution_count": 13,
   "id": "e920cdb2",
   "metadata": {},
   "outputs": [],
   "source": [
    "# Variables explicatives\n",
    "X_new = new.drop(columns='id')\n",
    "\n",
    "std_scale = preprocessing.StandardScaler().fit(X_new)\n",
    "X_scaled = std_scale.transform(X_new)"
   ]
  },
  {
   "cell_type": "code",
   "execution_count": 14,
   "id": "5a04fe82",
   "metadata": {},
   "outputs": [],
   "source": [
    "y_pred_new = modele_rf.predict(X_new)\n",
    "# On ajoute le resutat dans un colonne\n",
    "new[\"Prediction\"] = y_pred_new\n",
    "# Calcul des probabilités d'appartenir à une classe\n",
    "proba_new = modele_rf.predict_proba(X_new)\n",
    "new['Proba_Faux'] = proba_new[:,0].round(4)*100\n",
    "new['Proba_Vrai'] = proba_new[:,1].round(4)*100"
   ]
  },
  {
   "cell_type": "code",
   "execution_count": 15,
   "id": "56741e3f",
   "metadata": {},
   "outputs": [
    {
     "data": {
      "text/html": [
       "<div>\n",
       "<style scoped>\n",
       "    .dataframe tbody tr th:only-of-type {\n",
       "        vertical-align: middle;\n",
       "    }\n",
       "\n",
       "    .dataframe tbody tr th {\n",
       "        vertical-align: top;\n",
       "    }\n",
       "\n",
       "    .dataframe thead th {\n",
       "        text-align: right;\n",
       "    }\n",
       "</style>\n",
       "<table border=\"1\" class=\"dataframe\">\n",
       "  <thead>\n",
       "    <tr style=\"text-align: right;\">\n",
       "      <th></th>\n",
       "      <th>diagonal</th>\n",
       "      <th>height_left</th>\n",
       "      <th>height_right</th>\n",
       "      <th>margin_low</th>\n",
       "      <th>margin_up</th>\n",
       "      <th>length</th>\n",
       "      <th>id</th>\n",
       "      <th>Prediction</th>\n",
       "      <th>Proba_Faux</th>\n",
       "      <th>Proba_Vrai</th>\n",
       "    </tr>\n",
       "  </thead>\n",
       "  <tbody>\n",
       "    <tr>\n",
       "      <th>0</th>\n",
       "      <td>171.76</td>\n",
       "      <td>104.01</td>\n",
       "      <td>103.54</td>\n",
       "      <td>5.21</td>\n",
       "      <td>3.30</td>\n",
       "      <td>111.42</td>\n",
       "      <td>A_1</td>\n",
       "      <td>False</td>\n",
       "      <td>95.0</td>\n",
       "      <td>5.0</td>\n",
       "    </tr>\n",
       "    <tr>\n",
       "      <th>1</th>\n",
       "      <td>171.87</td>\n",
       "      <td>104.17</td>\n",
       "      <td>104.13</td>\n",
       "      <td>6.00</td>\n",
       "      <td>3.31</td>\n",
       "      <td>112.09</td>\n",
       "      <td>A_2</td>\n",
       "      <td>False</td>\n",
       "      <td>100.0</td>\n",
       "      <td>0.0</td>\n",
       "    </tr>\n",
       "    <tr>\n",
       "      <th>2</th>\n",
       "      <td>172.00</td>\n",
       "      <td>104.58</td>\n",
       "      <td>104.29</td>\n",
       "      <td>4.99</td>\n",
       "      <td>3.39</td>\n",
       "      <td>111.57</td>\n",
       "      <td>A_3</td>\n",
       "      <td>False</td>\n",
       "      <td>100.0</td>\n",
       "      <td>0.0</td>\n",
       "    </tr>\n",
       "    <tr>\n",
       "      <th>3</th>\n",
       "      <td>172.49</td>\n",
       "      <td>104.55</td>\n",
       "      <td>104.34</td>\n",
       "      <td>4.44</td>\n",
       "      <td>3.03</td>\n",
       "      <td>113.20</td>\n",
       "      <td>A_4</td>\n",
       "      <td>True</td>\n",
       "      <td>4.0</td>\n",
       "      <td>96.0</td>\n",
       "    </tr>\n",
       "    <tr>\n",
       "      <th>4</th>\n",
       "      <td>171.65</td>\n",
       "      <td>103.63</td>\n",
       "      <td>103.56</td>\n",
       "      <td>3.77</td>\n",
       "      <td>3.16</td>\n",
       "      <td>113.33</td>\n",
       "      <td>A_5</td>\n",
       "      <td>True</td>\n",
       "      <td>0.0</td>\n",
       "      <td>100.0</td>\n",
       "    </tr>\n",
       "  </tbody>\n",
       "</table>\n",
       "</div>"
      ],
      "text/plain": [
       "   diagonal  height_left  height_right  margin_low  margin_up  length   id  \\\n",
       "0    171.76       104.01        103.54        5.21       3.30  111.42  A_1   \n",
       "1    171.87       104.17        104.13        6.00       3.31  112.09  A_2   \n",
       "2    172.00       104.58        104.29        4.99       3.39  111.57  A_3   \n",
       "3    172.49       104.55        104.34        4.44       3.03  113.20  A_4   \n",
       "4    171.65       103.63        103.56        3.77       3.16  113.33  A_5   \n",
       "\n",
       "   Prediction  Proba_Faux  Proba_Vrai  \n",
       "0       False        95.0         5.0  \n",
       "1       False       100.0         0.0  \n",
       "2       False       100.0         0.0  \n",
       "3        True         4.0        96.0  \n",
       "4        True         0.0       100.0  "
      ]
     },
     "execution_count": 15,
     "metadata": {},
     "output_type": "execute_result"
    }
   ],
   "source": [
    "new.head()"
   ]
  },
  {
   "cell_type": "code",
   "execution_count": 16,
   "id": "c016d75a",
   "metadata": {},
   "outputs": [
    {
     "name": "stdout",
     "output_type": "stream",
     "text": [
      "Le billet A_1 semble faux semble faux avec une probabilité de 95.0 %\n",
      "Le billet A_2 semble faux semble faux avec une probabilité de 100.0 %\n",
      "Le billet A_3 semble faux semble faux avec une probabilité de 100.0 %\n",
      "Le billet A_4 semble vrai avec une probabilité de 96.0 %\n",
      "Le billet A_5 semble vrai avec une probabilité de 100.0 %\n"
     ]
    }
   ],
   "source": [
    "for j, i, k in zip(new.index, new[\"Prediction\"], new[\"id\"]):\n",
    "    if i == True : \n",
    "       print(\"Le billet {}\".format(k),\"semble vrai avec une probabilité de \"\n",
    "             + str(new.iloc[j,9]),\"%\")\n",
    "    else : \n",
    "        print(\"Le billet {}\".format(k),\"semble faux \"\"semble faux avec une probabilité de \"\n",
    "             + str(new.iloc[j,8]),\"%\")"
   ]
  },
  {
   "cell_type": "code",
   "execution_count": 17,
   "id": "1d81cf9f",
   "metadata": {},
   "outputs": [],
   "source": [
    "# export\n",
    "new.to_csv('resultats/monmodel_RF.csv',index=False)"
   ]
  }
 ],
 "metadata": {
  "kernelspec": {
   "display_name": "Python 3 (ipykernel)",
   "language": "python",
   "name": "python3"
  },
  "language_info": {
   "codemirror_mode": {
    "name": "ipython",
    "version": 3
   },
   "file_extension": ".py",
   "mimetype": "text/x-python",
   "name": "python",
   "nbconvert_exporter": "python",
   "pygments_lexer": "ipython3",
   "version": "3.9.12"
  }
 },
 "nbformat": 4,
 "nbformat_minor": 5
}
